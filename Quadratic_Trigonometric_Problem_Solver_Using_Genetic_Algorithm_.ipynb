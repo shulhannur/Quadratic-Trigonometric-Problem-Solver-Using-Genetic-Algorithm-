{
  "nbformat": 4,
  "nbformat_minor": 0,
  "metadata": {
    "colab": {
      "name": "Quadratic-Trigonometric Problem Solver Using Genetic Algorithm .ipynb",
      "provenance": [],
      "collapsed_sections": []
    },
    "kernelspec": {
      "name": "python3",
      "display_name": "Python 3"
    }
  },
  "cells": [
    {
      "cell_type": "markdown",
      "metadata": {
        "id": "JapbWeaUTv5r"
      },
      "source": [
        "# IMPORTED LIBRARY"
      ]
    },
    {
      "cell_type": "code",
      "metadata": {
        "id": "WmFOCZJV7SKI"
      },
      "source": [
        "import random\n",
        "import numpy as np\n",
        "np.random.seed(1234)"
      ],
      "execution_count": null,
      "outputs": []
    },
    {
      "cell_type": "markdown",
      "metadata": {
        "id": "fersRjOqMcJg"
      },
      "source": [
        "# CONSTANTS AND GLOBAL VARIABLES"
      ]
    },
    {
      "cell_type": "code",
      "metadata": {
        "id": "1wi4vYmFMl85"
      },
      "source": [
        "total_individual = 50\n",
        "chromosome_length = 10\n",
        "pc = 0.99\n",
        "pm = 0.99\n",
        "max_gen = 500\n",
        "population = []\n",
        "pool_filial = []\n",
        "mutants = []"
      ],
      "execution_count": null,
      "outputs": []
    },
    {
      "cell_type": "markdown",
      "metadata": {
        "id": "xYbQmmnPT5Q8"
      },
      "source": [
        "# 1ST GENERATION"
      ]
    },
    {
      "cell_type": "code",
      "metadata": {
        "id": "hOG9TicS7V_n"
      },
      "source": [
        "def generate_chromosome(n):\n",
        "\treturn np.random.randint(0,2,n)"
      ],
      "execution_count": null,
      "outputs": []
    },
    {
      "cell_type": "markdown",
      "metadata": {
        "id": "IJWVls7RT_v7"
      },
      "source": [
        "# CHROMOSOME DECODING"
      ]
    },
    {
      "cell_type": "code",
      "metadata": {
        "id": "_Ff9VxYPGCkl"
      },
      "source": [
        "def x1(chromosome):\n",
        "\treturn (-1+(2-(-1)/(2**-1+2**-2+2**-3+2**-4+2**-5))*(chromosome[0]*2**-1 + chromosome[1]*2**-2 + chromosome[2]*2**-3 + chromosome[3]*2**-4 + chromosome[4]*2**-5))\n",
        "\n",
        "\n",
        "def x2(chromosome):\n",
        "\treturn (-1+(1-(-1)/(2**-1+2**-2+2**-3+2**-4+2**-5))*(chromosome[5]*2**-1 + chromosome[6]*2**-2 + chromosome[7]*2**-3 + chromosome[8]*2**-4 + chromosome[9]*2**-5))"
      ],
      "execution_count": null,
      "outputs": []
    },
    {
      "cell_type": "markdown",
      "metadata": {
        "id": "3bIlR9Su3Lfm"
      },
      "source": [
        "# H FUNCTION"
      ]
    },
    {
      "cell_type": "code",
      "metadata": {
        "id": "gK9mooFh7dVD"
      },
      "source": [
        "def h(x1,x2):\n",
        "\treturn np.cos(x1)*np.sin(x2)-(x1/(x2**2+1))"
      ],
      "execution_count": null,
      "outputs": []
    },
    {
      "cell_type": "markdown",
      "metadata": {
        "id": "TIu0sGJb3PAn"
      },
      "source": [
        "# FITNESS FUNCTION"
      ]
    },
    {
      "cell_type": "code",
      "metadata": {
        "id": "MQ2Dw_x_7hSV"
      },
      "source": [
        "def fitness(chromosome):\n",
        "\treturn (-h(x1(chromosome),x2(chromosome)))"
      ],
      "execution_count": null,
      "outputs": []
    },
    {
      "cell_type": "markdown",
      "metadata": {
        "id": "PeJGy7_r3RGG"
      },
      "source": [
        "# PARENTAL SELECTION"
      ]
    },
    {
      "cell_type": "code",
      "metadata": {
        "id": "W6LMHYCdAzYa"
      },
      "source": [
        "def parental_selection(pool):\n",
        "  tournamently_selected = []\n",
        "  total = 0\n",
        "  for i in range(total_individual):\n",
        "    total = total + fitness(pool[i])\n",
        "  for j in range(total_individual):\n",
        "    r = random.random()\n",
        "    individual = 0\n",
        "    while (r>0):\n",
        "      r = r - fitness(pool[i])\n",
        "      individual = individual + 1\n",
        "      tournamently_selected.append(pool[individual])\n",
        "  return tournamently_selected"
      ],
      "execution_count": null,
      "outputs": []
    },
    {
      "cell_type": "markdown",
      "metadata": {
        "id": "PgS-aT8r3qKa"
      },
      "source": [
        "# CROSSOVER"
      ]
    },
    {
      "cell_type": "code",
      "metadata": {
        "id": "46jM8Wa17mUo"
      },
      "source": [
        "def crossover(selected1,selected2):\n",
        "\tn = np.random.randint(1,len(selected1))\n",
        "\toffspring1, offspring2 = [],[]\n",
        "\tfor i in range(n):\n",
        "\t\toffspring1.append(selected1[i])\n",
        "\t\toffspring2.append(selected2[i])\n",
        "\twhile(n<len(selected1)):\n",
        "\t\toffspring1.append(selected2[n])\n",
        "\t\toffspring2.append(selected1[n])\n",
        "\t\tn+=1\n",
        "\treturn offspring1,offspring2"
      ],
      "execution_count": null,
      "outputs": []
    },
    {
      "cell_type": "markdown",
      "metadata": {
        "id": "V0CzN_yB3z3P"
      },
      "source": [
        "# MUTATION"
      ]
    },
    {
      "cell_type": "code",
      "metadata": {
        "id": "qoNmeo8-7oG_"
      },
      "source": [
        "def mutation(filial):\n",
        "\tmutant = filial\n",
        "\tr1 = np.random.random()\n",
        "\tif (r1<=pm):\n",
        "\t\tr2 = np.random.randint(0,len(filial))\n",
        "\t\tr3 = np.random.randint(0,2)\n",
        "\t\tmutant[r2] = r3\n",
        "\treturn mutant"
      ],
      "execution_count": null,
      "outputs": []
    },
    {
      "cell_type": "markdown",
      "metadata": {
        "id": "LrUY9jno31qv"
      },
      "source": [
        "# SURVIVOR SELECTION"
      ]
    },
    {
      "cell_type": "code",
      "metadata": {
        "id": "CQ4bcrZN7pzC"
      },
      "source": [
        "def survivor_selection(population1):\n",
        "\tgenerational_replacement = []\n",
        "\tnext_gen = sorted(population1,key=fitness,reverse=True)\n",
        "\tfor i in range(total_individual):\n",
        "\t\tgenerational_replacement.append(next_gen[i])\n",
        "\treturn generational_replacement"
      ],
      "execution_count": null,
      "outputs": []
    },
    {
      "cell_type": "markdown",
      "metadata": {
        "id": "RFLSzN8vLAu1"
      },
      "source": [
        "# MAIN"
      ]
    },
    {
      "cell_type": "code",
      "metadata": {
        "id": "AahFXdeX7r4c",
        "colab": {
          "base_uri": "https://localhost:8080/",
          "height": 106
        },
        "outputId": "5db1dd51-12af-468e-ea38-0db8b5ff0b77"
      },
      "source": [
        "for i in range(total_individual):\n",
        "\tpopulation.append(generate_chromosome(chromosome_length))\n",
        "\n",
        "for j in range(15):\n",
        "\t#parental_selection\n",
        "  parent = parental_selection(population)\n",
        "\n",
        "\t#crossover\n",
        "  k = 0\n",
        "  while (k<total_individual):\n",
        "    filial1, filial2 = crossover(parent[k],parent[k+1])\n",
        "    pool_filial.append(filial1)\n",
        "    pool_filial.append(filial2)\n",
        "    k += 2\n",
        "\n",
        "\t#mutation\n",
        "  for l in range(total_individual):\n",
        "    mutants.append(mutation(pool_filial[l]))\n",
        "\n",
        "\t#survivor_selection\n",
        "  generasi = population + mutants\n",
        "  population = survivor_selection(generasi)\n",
        "  elitism = max(population,key=fitness)\n",
        "\n",
        "print(\"best solution     : \",elitism)\n",
        "print(\"fitness score     : \",fitness(elitism))\n",
        "print(\"x1                : \",x1(elitism))\n",
        "print(\"x2                : \",x2(elitism))\n",
        "print(\"function minimum  : \",h(x1(elitism),x2(elitism)))"
      ],
      "execution_count": null,
      "outputs": [
        {
          "output_type": "stream",
          "text": [
            "best solution     :  [1 1 1 1 1 1 0 0 1 0]\n",
            "fitness score     :  1.9497449360779626\n",
            "x1                :  1.9375\n",
            "x2                :  0.1431451612903225\n",
            "function minimum  :  -1.9497449360779626\n"
          ],
          "name": "stdout"
        }
      ]
    }
  ]
}